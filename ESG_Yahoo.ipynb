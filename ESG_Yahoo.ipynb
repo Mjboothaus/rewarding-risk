{
  "nbformat": 4,
  "nbformat_minor": 0,
  "metadata": {
    "colab": {
      "name": "ESG_Yahoo.ipynb",
      "private_outputs": true,
      "provenance": [],
      "collapsed_sections": [],
      "authorship_tag": "ABX9TyPcVlrslaqiitGlO4ToTGO9",
      "include_colab_link": true
    },
    "kernelspec": {
      "name": "python3",
      "display_name": "Python 3"
    },
    "language_info": {
      "name": "python"
    }
  },
  "cells": [
    {
      "cell_type": "markdown",
      "metadata": {
        "id": "view-in-github",
        "colab_type": "text"
      },
      "source": [
        "<a href=\"https://colab.research.google.com/github/Mjboothaus/rewarding-risk/blob/main/ESG_Yahoo.ipynb\" target=\"_parent\"><img src=\"https://colab.research.google.com/assets/colab-badge.svg\" alt=\"Open In Colab\"/></a>"
      ]
    },
    {
      "cell_type": "code",
      "source": [
        "!pip install yfinance\n",
        "!pip install requests_cache"
      ],
      "metadata": {
        "id": "m6OAge7gxMvJ"
      },
      "execution_count": null,
      "outputs": []
    },
    {
      "cell_type": "code",
      "execution_count": null,
      "metadata": {
        "id": "K1fYvbKMvz-H"
      },
      "outputs": [],
      "source": [
        "import yfinance as yf\n",
        "import pandas as pd\n",
        "import requests_cache"
      ]
    },
    {
      "cell_type": "markdown",
      "source": [
        "Background see https://medium.com/@jamesbowden/extracting-esg-data-from-yahoo-finance-using-python-4834bc8db570\n",
        "\n",
        "* 92% of the S&P 500 companies published a sustainability report in 2020, up from 90% in 2019\n",
        "* 70% of the Russell 1000 companies published a sustainability report in 2020, up from 65% in 2019\n",
        "* 49% of the smallest half by market cap of the Russell 1000 companies published a sustainability report in 2020, up from 39% in 2019\n",
        "* 68% of sustainability reports published by Russell 1000 companies discussed the impact of the COVID-19 pandemic\n",
        "\n",
        "Source: https://www.ga-institute.com/nc/storage/press-releases/article/92-of-sp-500r-companies-and-70-of-russell-1000r-companies-published-sustainability-reports-in-202.html"
      ],
      "metadata": {
        "id": "5BFxISeNv1Bu"
      }
    },
    {
      "cell_type": "code",
      "source": [
        "session = requests_cache.CachedSession('yfinance.cache')"
      ],
      "metadata": {
        "id": "ZxosEdXTzL9H"
      },
      "execution_count": null,
      "outputs": []
    },
    {
      "cell_type": "markdown",
      "source": [
        "Let’s take a look at sustainability scores for The Coca-Cola Company using it’s ticker code “KO”:"
      ],
      "metadata": {
        "id": "B54LSMcsxaiN"
      }
    },
    {
      "cell_type": "code",
      "source": [
        "tickers = \"KO, AAPL\"\n",
        "ticker = yf.Tickers(tickers, session=session)\n",
        "esg_data = pd.DataFrame(ticker.sustainability)\n",
        "# esg_data['company_ticker'] = str(ccola_y.ticker)"
      ],
      "metadata": {
        "id": "ynMhpgEKv3a4"
      },
      "execution_count": null,
      "outputs": []
    },
    {
      "cell_type": "code",
      "source": [
        "ticker.symbols"
      ],
      "metadata": {
        "id": "z6sl_bihxuo1"
      },
      "execution_count": null,
      "outputs": []
    },
    {
      "cell_type": "code",
      "source": [
        "ticker.AAPL.sustainability"
      ],
      "metadata": {
        "id": "BD83k6LNx39x"
      },
      "execution_count": null,
      "outputs": []
    },
    {
      "cell_type": "code",
      "source": [
        "!pip install yahooquery"
      ],
      "metadata": {
        "id": "e1uG1tu51MZ-"
      },
      "execution_count": null,
      "outputs": []
    },
    {
      "cell_type": "code",
      "source": [
        "from yahooquery import Ticker\n"
      ],
      "metadata": {
        "id": "0fhTLsIr1KI8"
      },
      "execution_count": null,
      "outputs": []
    },
    {
      "cell_type": "code",
      "source": [
        "\n",
        "\n",
        "\n",
        "ticker_list = [\"A\", \"AL\", \"AAP\", \"AAPL\", \"ZBRA\", \"ZION\", \"ZTS\"]\n",
        "all_symbols = \" \".join(ticker_list)\n",
        "myInfo = Ticker(all_symbols)\n",
        "myDict = myInfo.price\n",
        "\n",
        "for ticker in ticker_list:\n",
        "    ticker = str(ticker)\n",
        "    longName = myDict[ticker]['longName']\n",
        "    market_cap = myDict[ticker]['marketCap']\n",
        "    price = myDict[ticker]['regularMarketPrice']\n",
        "    print(ticker, longName, market_cap, price)"
      ],
      "metadata": {
        "id": "9BIP0u2m0r3m"
      },
      "execution_count": null,
      "outputs": []
    },
    {
      "cell_type": "code",
      "source": [
        "myDict[\"AAPL\"]"
      ],
      "metadata": {
        "id": "_fIR3Iy31Rwy"
      },
      "execution_count": null,
      "outputs": []
    },
    {
      "cell_type": "code",
      "source": [
        ""
      ],
      "metadata": {
        "id": "xqGJ3Jb11ac7"
      },
      "execution_count": null,
      "outputs": []
    }
  ]
}