{
  "cells": [
    {
      "cell_type": "markdown",
      "metadata": {
        "colab_type": "text",
        "id": "view-in-github"
      },
      "source": [
        "<a href=\"https://colab.research.google.com/github/Mjboothaus/rewarding-risk/blob/main/notebooks/PortfolioVaR.ipynb\" target=\"_parent\"><img src=\"https://colab.research.google.com/assets/colab-badge.svg\" alt=\"Open In Colab\"/></a>"
      ]
    },
    {
      "cell_type": "markdown",
      "metadata": {
        "id": "yJrVaoVAMd9h"
      },
      "source": [
        "# Calculating Value at Risk (VaR) of a stock portfolio using Python\n",
        "\n",
        "## What is Value at risk (VaR)?\n",
        "\n",
        "Value at risk (VaR) is one statistic used to try and quantify the level of financial risk within a firm or portfolio over a specified time frame. VaR provides an estimate of the maximum loss from a given position or portfolio over a period of time, and you can calculate it across various confidence levels.\n",
        "\n",
        "Estimating the risk of a portfolio is important to long-term capital growth and risk management, particularly within larger firms or institutions. VaR is typically framed as something like this:\n",
        "\n",
        "\"We have a portfolio VaR of 250,000 AUD over the next month at 95% confidence\".\n",
        "This means that, with 95% confidence, we can say that the portfolio's loss will not exceed 250,000 AUD in a month.\n",
        "The steps to calculate this metric across a simple portfolio of stocks is presented below.\n",
        "\n",
        "\n",
        "## How is VaR calculated?\n",
        "\n",
        "There are two main ways to calculate VaR:\n",
        "1. Monte Carlo simulation\n",
        "2. Variance-covariance method.\n",
        "\n",
        "Here we'll focus on using method (2) (variance-covariance). In short, the variance-covariance method looks at historical price movements (standard deviation, mean price) of a given equity or portfolio of equities over a specified lookback period, and then uses probability theory to calculate the maximum loss within the specified confidence interval. More details are available [here](https://www.investopedia.com/ask/answers/041715/what-variancecovariance-matrix-or-parametric-method-value-risk-var.asp), but we'll calculate it step by step below using Python.\n",
        "\n",
        "### Assumptions\n",
        "\n",
        "Before we get started, note that the standard VaR calculation assumes the following:\n",
        "1. Normal distribution of returns - VaR assumes the returns of the portfolio are normally distributed. This is of course not realistic for most assets, but allows us to develop a baseline using a much more simplistic calculation.\n",
        "(Modifications can be made to VaR to account for different distributions, but here we'll focus on the standard VaR calculation)\n",
        "2. Standard market conditions - Like many financial instruments, VaR is best used for considering loss in standard markets, and is not well-suited for extreme/outlier events.\n",
        "\n",
        "## Steps to calculate the VaR of a portfolio\n",
        "\n",
        "In order to calculate the VaR of a portfolio, you can follow the steps below:\n",
        "1. Calculate periodic returns of the stocks in the portfolio\n",
        "2. Create a covariance matrix based on the returns\n",
        "3. Calculate the portfolio mean and standard deviation\n",
        "(weighted based on investment levels of each stock in portfolio)\n",
        "4. Calculate the inverse of the normal cumulative distribution (PPF) with a specified confidence interval, standard deviation, and mean\n",
        "5. Estimate the value at risk (VaR) for the portfolio by subtracting the initial investment from the calculation in step (4).\n",
        "\n",
        "### Reference\n",
        "\n",
        "https://www.interviewqs.com/blog/value-at-risk"
      ]
    },
    {
      "cell_type": "markdown",
      "metadata": {
        "id": "z4qRPACCNYuJ"
      },
      "source": [
        "### 0) Setup"
      ]
    },
    {
      "cell_type": "code",
      "execution_count": 1,
      "metadata": {
        "id": "nD735qL0Nccm"
      },
      "outputs": [],
      "source": [
        "import datetime as dt\n",
        "\n",
        "import matplotlib.pyplot as plt\n",
        "import numpy as np\n",
        "import requests_cache\n",
        "import yfinance as yf\n",
        "from babel.numbers import format_currency\n",
        "from pandas_datareader import data as pdr\n",
        "from pandas_datareader.yahoo.headers import DEFAULT_HEADERS\n",
        "from scipy.stats import norm\n"
      ]
    },
    {
      "cell_type": "code",
      "execution_count": 2,
      "metadata": {},
      "outputs": [],
      "source": [
        "def format_AUD(value):\n",
        "    return format_currency(value, 'AUD', locale='en_AU')"
      ]
    },
    {
      "cell_type": "code",
      "execution_count": 3,
      "metadata": {},
      "outputs": [],
      "source": [
        "expire_after = dt.timedelta(days=3)"
      ]
    },
    {
      "cell_type": "code",
      "execution_count": 4,
      "metadata": {},
      "outputs": [],
      "source": [
        "session = requests_cache.CachedSession(cache_name='cache', backend='sqlite', expire_after=expire_after)\n",
        "session.headers = DEFAULT_HEADERS"
      ]
    },
    {
      "cell_type": "markdown",
      "metadata": {
        "id": "2Vn5V_zxNNTk"
      },
      "source": [
        "### 1) Calculate periodic returns of the stocks in the portfolio"
      ]
    },
    {
      "cell_type": "code",
      "execution_count": 5,
      "metadata": {
        "id": "g-uxDr3uNCeJ"
      },
      "outputs": [
        {
          "data": {
            "text/plain": [
              "'$1,000,000.00'"
            ]
          },
          "execution_count": 5,
          "metadata": {},
          "output_type": "execute_result"
        }
      ],
      "source": [
        "# Create our portfolio of equities\n",
        "tickers = [\"ANZ.AX\", \"CBA.AX\", \"NAB.AX\", \"WBC.AX\"]\n",
        "\n",
        "# Set the investment weights (I arbitrarily picked for example)\n",
        "weights = np.array([0.25, 0.3, 0.15, 0.3])\n",
        "\n",
        "# Set an initial investment level (1M AUD - for this US-centric example)\n",
        "initial_investment = 1_000_000\n",
        "\n",
        "format_AUD(initial_investment)\n"
      ]
    },
    {
      "cell_type": "code",
      "execution_count": 6,
      "metadata": {
        "id": "N-m9rcukNw9G"
      },
      "outputs": [],
      "source": [
        "assert sum(weights) == 1.0\n"
      ]
    },
    {
      "cell_type": "code",
      "execution_count": 7,
      "metadata": {},
      "outputs": [],
      "source": [
        "START_DATE = \"2017-01-01\"\n",
        "END_DATE = dt.date.today() - dt.timedelta(days=1)   # yesterday"
      ]
    },
    {
      "cell_type": "code",
      "execution_count": 8,
      "metadata": {
        "id": "Yg6a74-bNocX"
      },
      "outputs": [
        {
          "data": {
            "text/html": [
              "<div>\n",
              "<style scoped>\n",
              "    .dataframe tbody tr th:only-of-type {\n",
              "        vertical-align: middle;\n",
              "    }\n",
              "\n",
              "    .dataframe tbody tr th {\n",
              "        vertical-align: top;\n",
              "    }\n",
              "\n",
              "    .dataframe thead th {\n",
              "        text-align: right;\n",
              "    }\n",
              "</style>\n",
              "<table border=\"1\" class=\"dataframe\">\n",
              "  <thead>\n",
              "    <tr style=\"text-align: right;\">\n",
              "      <th>Symbols</th>\n",
              "      <th>ANZ.AX</th>\n",
              "      <th>CBA.AX</th>\n",
              "      <th>NAB.AX</th>\n",
              "      <th>WBC.AX</th>\n",
              "    </tr>\n",
              "    <tr>\n",
              "      <th>Date</th>\n",
              "      <th></th>\n",
              "      <th></th>\n",
              "      <th></th>\n",
              "      <th></th>\n",
              "    </tr>\n",
              "  </thead>\n",
              "  <tbody>\n",
              "    <tr>\n",
              "      <th>2022-06-24</th>\n",
              "      <td>21.910000</td>\n",
              "      <td>90.160004</td>\n",
              "      <td>27.020000</td>\n",
              "      <td>19.480000</td>\n",
              "    </tr>\n",
              "    <tr>\n",
              "      <th>2022-06-27</th>\n",
              "      <td>22.570000</td>\n",
              "      <td>93.739998</td>\n",
              "      <td>27.930000</td>\n",
              "      <td>19.920000</td>\n",
              "    </tr>\n",
              "    <tr>\n",
              "      <th>2022-06-28</th>\n",
              "      <td>22.420000</td>\n",
              "      <td>93.540001</td>\n",
              "      <td>27.790001</td>\n",
              "      <td>19.750000</td>\n",
              "    </tr>\n",
              "    <tr>\n",
              "      <th>2022-06-29</th>\n",
              "      <td>22.629999</td>\n",
              "      <td>93.000000</td>\n",
              "      <td>28.070000</td>\n",
              "      <td>19.940001</td>\n",
              "    </tr>\n",
              "    <tr>\n",
              "      <th>2022-06-30</th>\n",
              "      <td>22.030001</td>\n",
              "      <td>90.379997</td>\n",
              "      <td>27.389999</td>\n",
              "      <td>19.500000</td>\n",
              "    </tr>\n",
              "  </tbody>\n",
              "</table>\n",
              "</div>"
            ],
            "text/plain": [
              "Symbols        ANZ.AX     CBA.AX     NAB.AX     WBC.AX\n",
              "Date                                                  \n",
              "2022-06-24  21.910000  90.160004  27.020000  19.480000\n",
              "2022-06-27  22.570000  93.739998  27.930000  19.920000\n",
              "2022-06-28  22.420000  93.540001  27.790001  19.750000\n",
              "2022-06-29  22.629999  93.000000  28.070000  19.940001\n",
              "2022-06-30  22.030001  90.379997  27.389999  19.500000"
            ]
          },
          "execution_count": 8,
          "metadata": {},
          "output_type": "execute_result"
        }
      ],
      "source": [
        "# Download closing prices\n",
        "\n",
        "data = pdr.get_data_yahoo(tickers, start=START_DATE, end=END_DATE, session=session)[\"Close\"]\n",
        "\n",
        "data.tail()\n"
      ]
    },
    {
      "cell_type": "code",
      "execution_count": 9,
      "metadata": {
        "id": "Ewn38t3NN4OY"
      },
      "outputs": [
        {
          "data": {
            "text/html": [
              "<div>\n",
              "<style scoped>\n",
              "    .dataframe tbody tr th:only-of-type {\n",
              "        vertical-align: middle;\n",
              "    }\n",
              "\n",
              "    .dataframe tbody tr th {\n",
              "        vertical-align: top;\n",
              "    }\n",
              "\n",
              "    .dataframe thead th {\n",
              "        text-align: right;\n",
              "    }\n",
              "</style>\n",
              "<table border=\"1\" class=\"dataframe\">\n",
              "  <thead>\n",
              "    <tr style=\"text-align: right;\">\n",
              "      <th>Symbols</th>\n",
              "      <th>ANZ.AX</th>\n",
              "      <th>CBA.AX</th>\n",
              "      <th>NAB.AX</th>\n",
              "      <th>WBC.AX</th>\n",
              "    </tr>\n",
              "    <tr>\n",
              "      <th>Date</th>\n",
              "      <th></th>\n",
              "      <th></th>\n",
              "      <th></th>\n",
              "      <th></th>\n",
              "    </tr>\n",
              "  </thead>\n",
              "  <tbody>\n",
              "    <tr>\n",
              "      <th>2022-06-24</th>\n",
              "      <td>-0.007250</td>\n",
              "      <td>0.004568</td>\n",
              "      <td>-0.004055</td>\n",
              "      <td>-0.007136</td>\n",
              "    </tr>\n",
              "    <tr>\n",
              "      <th>2022-06-27</th>\n",
              "      <td>0.030123</td>\n",
              "      <td>0.039707</td>\n",
              "      <td>0.033679</td>\n",
              "      <td>0.022587</td>\n",
              "    </tr>\n",
              "    <tr>\n",
              "      <th>2022-06-28</th>\n",
              "      <td>-0.006646</td>\n",
              "      <td>-0.002134</td>\n",
              "      <td>-0.005013</td>\n",
              "      <td>-0.008534</td>\n",
              "    </tr>\n",
              "    <tr>\n",
              "      <th>2022-06-29</th>\n",
              "      <td>0.009367</td>\n",
              "      <td>-0.005773</td>\n",
              "      <td>0.010076</td>\n",
              "      <td>0.009620</td>\n",
              "    </tr>\n",
              "    <tr>\n",
              "      <th>2022-06-30</th>\n",
              "      <td>-0.026513</td>\n",
              "      <td>-0.028172</td>\n",
              "      <td>-0.024225</td>\n",
              "      <td>-0.022066</td>\n",
              "    </tr>\n",
              "  </tbody>\n",
              "</table>\n",
              "</div>"
            ],
            "text/plain": [
              "Symbols       ANZ.AX    CBA.AX    NAB.AX    WBC.AX\n",
              "Date                                              \n",
              "2022-06-24 -0.007250  0.004568 -0.004055 -0.007136\n",
              "2022-06-27  0.030123  0.039707  0.033679  0.022587\n",
              "2022-06-28 -0.006646 -0.002134 -0.005013 -0.008534\n",
              "2022-06-29  0.009367 -0.005773  0.010076  0.009620\n",
              "2022-06-30 -0.026513 -0.028172 -0.024225 -0.022066"
            ]
          },
          "execution_count": 9,
          "metadata": {},
          "output_type": "execute_result"
        }
      ],
      "source": [
        "# From the closing prices, calculate periodic returns\n",
        "returns = data.pct_change()\n",
        "\n",
        "returns.tail()\n"
      ]
    },
    {
      "cell_type": "markdown",
      "metadata": {
        "id": "Jowv-MG3P9ub"
      },
      "source": [
        "### 2) Create a covariance matrix based on the returns\n",
        "\n",
        "This will allow us to calculate the standard deviation and mean of returns across the entire portfolio."
      ]
    },
    {
      "cell_type": "code",
      "execution_count": 10,
      "metadata": {
        "id": "1ta3mUFDPWB0"
      },
      "outputs": [
        {
          "data": {
            "text/html": [
              "<div>\n",
              "<style scoped>\n",
              "    .dataframe tbody tr th:only-of-type {\n",
              "        vertical-align: middle;\n",
              "    }\n",
              "\n",
              "    .dataframe tbody tr th {\n",
              "        vertical-align: top;\n",
              "    }\n",
              "\n",
              "    .dataframe thead th {\n",
              "        text-align: right;\n",
              "    }\n",
              "</style>\n",
              "<table border=\"1\" class=\"dataframe\">\n",
              "  <thead>\n",
              "    <tr style=\"text-align: right;\">\n",
              "      <th>Symbols</th>\n",
              "      <th>ANZ.AX</th>\n",
              "      <th>CBA.AX</th>\n",
              "      <th>NAB.AX</th>\n",
              "      <th>WBC.AX</th>\n",
              "    </tr>\n",
              "    <tr>\n",
              "      <th>Symbols</th>\n",
              "      <th></th>\n",
              "      <th></th>\n",
              "      <th></th>\n",
              "      <th></th>\n",
              "    </tr>\n",
              "  </thead>\n",
              "  <tbody>\n",
              "    <tr>\n",
              "      <th>ANZ.AX</th>\n",
              "      <td>0.000268</td>\n",
              "      <td>0.000197</td>\n",
              "      <td>0.000223</td>\n",
              "      <td>0.000234</td>\n",
              "    </tr>\n",
              "    <tr>\n",
              "      <th>CBA.AX</th>\n",
              "      <td>0.000197</td>\n",
              "      <td>0.000222</td>\n",
              "      <td>0.000182</td>\n",
              "      <td>0.000186</td>\n",
              "    </tr>\n",
              "    <tr>\n",
              "      <th>NAB.AX</th>\n",
              "      <td>0.000223</td>\n",
              "      <td>0.000182</td>\n",
              "      <td>0.000240</td>\n",
              "      <td>0.000220</td>\n",
              "    </tr>\n",
              "    <tr>\n",
              "      <th>WBC.AX</th>\n",
              "      <td>0.000234</td>\n",
              "      <td>0.000186</td>\n",
              "      <td>0.000220</td>\n",
              "      <td>0.000262</td>\n",
              "    </tr>\n",
              "  </tbody>\n",
              "</table>\n",
              "</div>"
            ],
            "text/plain": [
              "Symbols    ANZ.AX    CBA.AX    NAB.AX    WBC.AX\n",
              "Symbols                                        \n",
              "ANZ.AX   0.000268  0.000197  0.000223  0.000234\n",
              "CBA.AX   0.000197  0.000222  0.000182  0.000186\n",
              "NAB.AX   0.000223  0.000182  0.000240  0.000220\n",
              "WBC.AX   0.000234  0.000186  0.000220  0.000262"
            ]
          },
          "execution_count": 10,
          "metadata": {},
          "output_type": "execute_result"
        }
      ],
      "source": [
        "# Generate Var-Cov matrix\n",
        "cov_matrix = returns.cov()\n",
        "\n",
        "cov_matrix\n"
      ]
    },
    {
      "cell_type": "markdown",
      "metadata": {
        "id": "DXqjmYZ7QR21"
      },
      "source": [
        "### 3) Calculate the portfolio mean and standard deviation"
      ]
    },
    {
      "cell_type": "code",
      "execution_count": 11,
      "metadata": {
        "id": "CrygMjaWQE70"
      },
      "outputs": [],
      "source": [
        "# Calculate mean returns for each stock\n",
        "avg_rets = returns.mean()\n",
        "\n",
        "# Calculate mean returns for portfolio overall, using dot product to\n",
        "# normalize individual means against investment weights\n",
        "\n",
        "# https://en.wikipedia.org/wiki/Dot_product#:~:targetText=In%20mathematics%2C%20the%20dot%20product,and%20returns%20a%20single%20number.\n",
        "\n",
        "port_mean = avg_rets.dot(weights)\n",
        "\n",
        "# Calculate portfolio standard deviation\n",
        "\n",
        "port_stdev = np.sqrt(weights.T.dot(cov_matrix).dot(weights))\n",
        "\n",
        "# Calculate mean of investment\n",
        "\n",
        "mean_investment = (1 + port_mean) * initial_investment\n",
        "\n",
        "# Calculate standard deviation of investment\n",
        "\n",
        "stdev_investment = initial_investment * port_stdev\n"
      ]
    },
    {
      "cell_type": "code",
      "execution_count": 12,
      "metadata": {
        "id": "qTdz_G_JQfSn"
      },
      "outputs": [
        {
          "data": {
            "text/plain": [
              "Symbols\n",
              "ANZ.AX   -0.000110\n",
              "CBA.AX    0.000172\n",
              "NAB.AX    0.000030\n",
              "WBC.AX   -0.000246\n",
              "dtype: float64"
            ]
          },
          "execution_count": 12,
          "metadata": {},
          "output_type": "execute_result"
        }
      ],
      "source": [
        "avg_rets\n"
      ]
    },
    {
      "cell_type": "code",
      "execution_count": 13,
      "metadata": {
        "id": "RXpS3jgXQ4zQ"
      },
      "outputs": [
        {
          "data": {
            "text/plain": [
              "-4.51437999274554e-05"
            ]
          },
          "execution_count": 13,
          "metadata": {},
          "output_type": "execute_result"
        }
      ],
      "source": [
        "port_mean\n"
      ]
    },
    {
      "cell_type": "code",
      "execution_count": 14,
      "metadata": {
        "id": "gpjmZVdWRAoN"
      },
      "outputs": [
        {
          "data": {
            "text/plain": [
              "0.014716352100728207"
            ]
          },
          "execution_count": 14,
          "metadata": {},
          "output_type": "execute_result"
        }
      ],
      "source": [
        "port_stdev\n"
      ]
    },
    {
      "cell_type": "code",
      "execution_count": 15,
      "metadata": {
        "id": "w8VEhz0hREHb"
      },
      "outputs": [
        {
          "data": {
            "text/plain": [
              "'$999,954.86'"
            ]
          },
          "execution_count": 15,
          "metadata": {},
          "output_type": "execute_result"
        }
      ],
      "source": [
        "format_AUD(mean_investment)\n"
      ]
    },
    {
      "cell_type": "code",
      "execution_count": 16,
      "metadata": {
        "id": "W_6bsQ87RGjL"
      },
      "outputs": [
        {
          "data": {
            "text/plain": [
              "'$14,716.35'"
            ]
          },
          "execution_count": 16,
          "metadata": {},
          "output_type": "execute_result"
        }
      ],
      "source": [
        "format_AUD(stdev_investment)\n"
      ]
    },
    {
      "cell_type": "markdown",
      "metadata": {
        "id": "OyRDnDqHRQnu"
      },
      "source": [
        "Next, we can plug these variables into our percentage point function (PPF) below.\n",
        "\n",
        "### 4) Calculate the inverse of the normal cumulative distribution (PPF) with a specified confidence interval, standard deviation, and mean"
      ]
    },
    {
      "cell_type": "code",
      "execution_count": 17,
      "metadata": {
        "id": "YzX0c7f8RJsm"
      },
      "outputs": [],
      "source": [
        "# Select our confidence interval (I'll choose 95% here)\n",
        "conf_level1 = 0.05\n",
        "\n",
        "# Using SciPy ppf method to generate values for the\n",
        "# inverse cumulative distribution function to a normal distribution\n",
        "\n",
        "# Plugging in the mean, standard deviation of our portfolio\n",
        "# as calculated above\n",
        "\n",
        "# https://docs.scipy.org/doc/scipy/reference/generated/scipy.stats.norm.html\n",
        "\n",
        "cutoff1 = norm.ppf(conf_level1, mean_investment, stdev_investment)\n"
      ]
    },
    {
      "cell_type": "code",
      "execution_count": 18,
      "metadata": {
        "id": "UHpXhkmDRgfo"
      },
      "outputs": [
        {
          "data": {
            "text/plain": [
              "'$975,748.61'"
            ]
          },
          "execution_count": 18,
          "metadata": {},
          "output_type": "execute_result"
        }
      ],
      "source": [
        "format_AUD(cutoff1)\n"
      ]
    },
    {
      "cell_type": "markdown",
      "metadata": {
        "id": "_6-JcC6ZRnt3"
      },
      "source": [
        "### 5) Estimate the value at risk (VaR) for the portfolio by subtracting the initial investment from the calculation in step 4"
      ]
    },
    {
      "cell_type": "code",
      "execution_count": 19,
      "metadata": {
        "id": "y5qVYzvYRjCD"
      },
      "outputs": [
        {
          "data": {
            "text/plain": [
              "'$24,251.39'"
            ]
          },
          "execution_count": 19,
          "metadata": {},
          "output_type": "execute_result"
        }
      ],
      "source": [
        "# Finally, we can calculate the VaR at our confidence interval\n",
        "\n",
        "var_1d1 = initial_investment - cutoff1\n",
        "\n",
        "format_AUD(var_1d1)\n"
      ]
    },
    {
      "cell_type": "markdown",
      "metadata": {
        "id": "iqnIcFlKYtgb"
      },
      "source": [
        "Here we are saying with 95% confidence that our portfolio of $1M AUD will not exceed losses greater than $24.2k AUD over a one day period.\n",
        "\n",
        "### Value at risk over $n$-day time period\n",
        "\n",
        "What if we wanted to calculate this over a larger window of time? Below we can easily do that by just taking our 1 day VaR and multiplying it by the square root of the time period (this is due to the fact that the standard deviation of stock returns tends to increase with the square root of time)."
      ]
    },
    {
      "cell_type": "code",
      "execution_count": 20,
      "metadata": {
        "id": "2KUFfcqQRsui"
      },
      "outputs": [
        {
          "name": "stdout",
          "output_type": "stream",
          "text": [
            "1 day VaR @ 95% confidence: $24,251.39\n",
            "2 day VaR @ 95% confidence: $34,296.64\n",
            "3 day VaR @ 95% confidence: $42,004.64\n",
            "4 day VaR @ 95% confidence: $48,502.78\n",
            "5 day VaR @ 95% confidence: $54,227.75\n",
            "6 day VaR @ 95% confidence: $59,403.53\n",
            "7 day VaR @ 95% confidence: $64,163.14\n",
            "8 day VaR @ 95% confidence: $68,593.29\n",
            "9 day VaR @ 95% confidence: $72,754.17\n",
            "10 day VaR @ 95% confidence: $76,689.63\n",
            "11 day VaR @ 95% confidence: $80,432.76\n",
            "12 day VaR @ 95% confidence: $84,009.28\n",
            "13 day VaR @ 95% confidence: $87,439.63\n",
            "14 day VaR @ 95% confidence: $90,740.39\n",
            "15 day VaR @ 95% confidence: $93,925.23\n"
          ]
        }
      ],
      "source": [
        "# Calculate n Day VaR\n",
        "\n",
        "var_array = []\n",
        "\n",
        "num_days = 15\n",
        "\n",
        "for x in range(1, num_days + 1):\n",
        "    var_array.append(np.round(var_1d1 * np.sqrt(x), 2))\n",
        "    print(\n",
        "        f\"{str(x)} day VaR @ 95% confidence: {format_AUD(np.round(var_1d1 * np.sqrt(x), 2))}\"\n",
        "    )\n"
      ]
    },
    {
      "cell_type": "code",
      "execution_count": 21,
      "metadata": {
        "id": "MpVqlDBiZfpr"
      },
      "outputs": [
        {
          "data": {
            "text/plain": [
              "[<matplotlib.lines.Line2D at 0x13c1d0be0>]"
            ]
          },
          "execution_count": 21,
          "metadata": {},
          "output_type": "execute_result"
        },
        {
          "data": {
            "image/png": "[encoded data removed]",
            "text/plain": [
              "<Figure size 432x288 with 1 Axes>"
            ]
          },
          "metadata": {
            "needs_background": "light"
          },
          "output_type": "display_data"
        }
      ],
      "source": [
        "# Build plot\n",
        "\n",
        "plt.xlabel(\"Day #\")\n",
        "plt.ylabel(\"Max portfolio loss ($AUD)\")\n",
        "plt.title(\"Max portfolio loss (VaR) over 15-day period\")\n",
        "plt.plot(range(1, num_days + 1), var_array, \"r\")\n"
      ]
    },
    {
      "cell_type": "markdown",
      "metadata": {
        "id": "WMaBHcL_aUE0"
      },
      "source": [
        "### (Extra) Checking distributions of our equities against normal distribution\n",
        "\n",
        "As mentioned in the calculation section, we are assuming that the returns of the equities in our portfolio are normally distributed when calculating VaR. Of course, we can't predict that moving forward, but we can at least check how the historical returns have been distributed to help us assess whether VaR is suitable to use for our portfolio."
      ]
    },
    {
      "cell_type": "code",
      "execution_count": 22,
      "metadata": {
        "id": "UR5SCEArZj0h"
      },
      "outputs": [],
      "source": [
        "def plot_return_dist(ticker):\n",
        "    returns[ticker].hist(bins=40, density=True, histtype=\"stepfilled\", alpha=0.5)\n",
        "    x = np.linspace(port_mean - 3 * port_stdev, port_mean + 3 * port_stdev, 100)\n",
        "    plt.plot(x, norm.pdf(x, port_mean, port_stdev), \"r\")\n",
        "    plt.title(f\"{ticker} returns (binned) vs. normal distribution\")\n",
        "    plt.show()\n"
      ]
    },
    {
      "cell_type": "code",
      "execution_count": 23,
      "metadata": {
        "id": "lIjBQUDZbAcj"
      },
      "outputs": [
        {
          "data": {
            "image/png": "[encoded data removed]",
            "text/plain": [
              "<Figure size 432x288 with 1 Axes>"
            ]
          },
          "metadata": {
            "needs_background": "light"
          },
          "output_type": "display_data"
        },
        {
          "data": {
            "image/png": "[encoded data removed]",
            "text/plain": [
              "<Figure size 432x288 with 1 Axes>"
            ]
          },
          "metadata": {
            "needs_background": "light"
          },
          "output_type": "display_data"
        },
        {
          "data": {
            "image/png": "[encoded data removed]",
            "text/plain": [
              "<Figure size 432x288 with 1 Axes>"
            ]
          },
          "metadata": {
            "needs_background": "light"
          },
          "output_type": "display_data"
        },
        {
          "data": {
            "image/png": "[encoded data removed]",
            "text/plain": [
              "<Figure size 432x288 with 1 Axes>"
            ]
          },
          "metadata": {
            "needs_background": "light"
          },
          "output_type": "display_data"
        }
      ],
      "source": [
        "for ticker in tickers:\n",
        "    plot_return_dist(ticker)\n"
      ]
    },
    {
      "cell_type": "markdown",
      "metadata": {
        "id": "dy-6UFG0d69s"
      },
      "source": [
        "From the above we can see the returns are not really normally distributed for our chosen stocks since 2017."
      ]
    }
  ],
  "metadata": {
    "colab": {
      "authorship_tag": "ABX9TyOJSZkYroQ0Lx9SDmKv7wQG",
      "collapsed_sections": [],
      "include_colab_link": true,
      "name": "PortfolioVaR.ipynb",
      "private_outputs": true,
      "provenance": []
    },
    "kernelspec": {
      "display_name": "Python 3.9.12 ('.venv': venv)",
      "language": "python",
      "name": "python3"
    },
    "language_info": {
      "codemirror_mode": {
        "name": "ipython",
        "version": 3
      },
      "file_extension": ".py",
      "mimetype": "text/x-python",
      "name": "python",
      "nbconvert_exporter": "python",
      "pygments_lexer": "ipython3",
      "version": "3.9.12"
    },
    "vscode": {
      "interpreter": {
        "hash": "1918512b074ea91ca9486d1fdb26f672ed6983871361a542e588744c2ecad22d"
      }
    }
  },
  "nbformat": 4,
  "nbformat_minor": 0
}
