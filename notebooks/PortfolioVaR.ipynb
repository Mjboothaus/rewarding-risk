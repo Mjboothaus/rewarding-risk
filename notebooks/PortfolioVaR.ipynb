{
  "cells": [
    {
      "cell_type": "markdown",
      "metadata": {
        "colab_type": "text",
        "id": "view-in-github"
      },
      "source": [
        "<a href=\"https://colab.research.google.com/github/Mjboothaus/rewarding-risk/blob/main/notebooks/PortfolioVaR.ipynb\" target=\"_parent\"><img src=\"https://colab.research.google.com/assets/colab-badge.svg\" alt=\"Open In Colab\"/></a>"
      ]
    },
    {
      "cell_type": "markdown",
      "metadata": {
        "id": "yJrVaoVAMd9h"
      },
      "source": [
        "# Calculating Value at Risk (VaR) of a stock portfolio using Python\n",
        "\n",
        "## What is Value at risk (VaR)?\n",
        "\n",
        "Value at risk (VaR) is a statistic used to try and quantify the level of financial risk within a firm or portfolio over a specified time frame. VaR provides an estimate of the maximum loss from a given position or portfolio over a period of time, and you can calculate it across various confidence levels.\n",
        "\n",
        "Estimating the risk of a portfolio is important to long-term capital growth and risk management, particularly within larger firms or institutions. VaR is typically framed as something like this:\n",
        "\n",
        "\"We have a portfolio VaR of 250,000 USD over the next month at 95% confidence\"\n",
        "This means that, with 95% confidence, we can say that the portfolio's loss will not exceed 250,000 USD in a month\n",
        "In this post I'll walk you through the steps to calculate this metric across a portfolio of stocks.\n",
        "\n",
        "\n",
        "## How is VaR calculated?\n",
        "\n",
        "There are two main ways to calculate VaR:\n",
        "1. Using Monte Carlo simulation\n",
        "2. Using the variance-covariance method\n",
        "\n",
        "In this post, we'll focus on using method (2) (variance-covariance). In short, the variance-covariance method looks at historical price movements (standard deviation, mean price) of a given equity or portfolio of equities over a specified lookback period, and then uses probability theory to calculate the maximum loss within your specified confidence interval. You can read more detail here, but we'll calculate it step by step below using Python.\n",
        "\n",
        "Before we get started, note that the standard VaR calculation assumes the following:\n",
        "1. Normal distribution of returns - VaR assumes the returns of the portfolio are normally distributed. This is of course not realistic for most assets, but allows us to develop a baseline using a much more simplistic calculation.\n",
        "(Modifications can be made to VaR to account for different distributions, but here we'll focus on the standard VaR calculation)\n",
        "2. Standard market conditions - Like many financial instruments, VaR is best used for considering loss in standard markets, and is not well-suited for extreme/outlier events.\n",
        "\n",
        "## Steps to calculate the VaR of a portfolio\n",
        "\n",
        "In order to calculate the VaR of a portfolio, you can follow the steps below:\n",
        "1. Calculate periodic returns of the stocks in the portfolio\n",
        "2. Create a covariance matrix based on the returns\n",
        "3. Calculate the portfolio mean and standard deviation\n",
        "(weighted based on investment levels of each stock in portfolio)\n",
        "4. Calculate the inverse of the normal cumulative distribution (PPF) with a specified confidence interval, standard deviation, and mean\n",
        "5. Estimate the value at risk (VaR) for the portfolio by subtracting the initial investment from the calculation in step (4)\n",
        "\n",
        "### Reference\n",
        "\n",
        "https://www.interviewqs.com/blog/value-at-risk"
      ]
    },
    {
      "cell_type": "markdown",
      "metadata": {
        "id": "z4qRPACCNYuJ"
      },
      "source": [
        "### 0) Setup"
      ]
    },
    {
      "cell_type": "code",
      "execution_count": 32,
      "metadata": {
        "id": "nD735qL0Nccm"
      },
      "outputs": [],
      "source": [
        "import pandas as pd\n",
        "from pandas_datareader import data as pdr\n",
        "import yfinance as yf\n",
        "import numpy as np\n",
        "import datetime as dt\n",
        "import matplotlib.mlab as mlab\n",
        "import matplotlib.pyplot as plt\n",
        "from scipy.stats import norm\n"
      ]
    },
    {
      "cell_type": "markdown",
      "metadata": {
        "id": "2Vn5V_zxNNTk"
      },
      "source": [
        "### 1) Calculate periodic returns of the stocks in the portfolio"
      ]
    },
    {
      "cell_type": "code",
      "execution_count": 33,
      "metadata": {
        "id": "g-uxDr3uNCeJ"
      },
      "outputs": [],
      "source": [
        "# Create our portfolio of equities\n",
        "tickers = [\"AAPL\", \"META\", \"C\", \"DIS\"]\n",
        "\n",
        "# Set the investment weights (I arbitrarily picked for example)\n",
        "weights = np.array([0.25, 0.3, 0.15, 0.3])\n",
        "\n",
        "# Set an initial investment level (1M USD - for this US-centric example)\n",
        "initial_investment = 1_000_000\n"
      ]
    },
    {
      "cell_type": "code",
      "execution_count": 34,
      "metadata": {
        "id": "N-m9rcukNw9G"
      },
      "outputs": [],
      "source": [
        "assert sum(weights) == 1.0\n"
      ]
    },
    {
      "cell_type": "code",
      "execution_count": 35,
      "metadata": {
        "id": "Yg6a74-bNocX"
      },
      "outputs": [
        {
          "data": {
            "text/html": [
              "<div>\n",
              "<style scoped>\n",
              "    .dataframe tbody tr th:only-of-type {\n",
              "        vertical-align: middle;\n",
              "    }\n",
              "\n",
              "    .dataframe tbody tr th {\n",
              "        vertical-align: top;\n",
              "    }\n",
              "\n",
              "    .dataframe thead th {\n",
              "        text-align: right;\n",
              "    }\n",
              "</style>\n",
              "<table border=\"1\" class=\"dataframe\">\n",
              "  <thead>\n",
              "    <tr style=\"text-align: right;\">\n",
              "      <th>Symbols</th>\n",
              "      <th>AAPL</th>\n",
              "      <th>META</th>\n",
              "      <th>C</th>\n",
              "      <th>DIS</th>\n",
              "    </tr>\n",
              "    <tr>\n",
              "      <th>Date</th>\n",
              "      <th></th>\n",
              "      <th></th>\n",
              "      <th></th>\n",
              "      <th></th>\n",
              "    </tr>\n",
              "  </thead>\n",
              "  <tbody>\n",
              "    <tr>\n",
              "      <th>2022-06-24</th>\n",
              "      <td>141.660004</td>\n",
              "      <td>170.160004</td>\n",
              "      <td>47.860001</td>\n",
              "      <td>97.779999</td>\n",
              "    </tr>\n",
              "    <tr>\n",
              "      <th>2022-06-27</th>\n",
              "      <td>141.660004</td>\n",
              "      <td>169.490005</td>\n",
              "      <td>47.830002</td>\n",
              "      <td>96.610001</td>\n",
              "    </tr>\n",
              "    <tr>\n",
              "      <th>2022-06-28</th>\n",
              "      <td>137.440002</td>\n",
              "      <td>160.679993</td>\n",
              "      <td>47.209999</td>\n",
              "      <td>95.919998</td>\n",
              "    </tr>\n",
              "    <tr>\n",
              "      <th>2022-06-29</th>\n",
              "      <td>139.229996</td>\n",
              "      <td>163.940002</td>\n",
              "      <td>47.099998</td>\n",
              "      <td>95.650002</td>\n",
              "    </tr>\n",
              "    <tr>\n",
              "      <th>2022-06-30</th>\n",
              "      <td>136.720001</td>\n",
              "      <td>161.250000</td>\n",
              "      <td>45.990002</td>\n",
              "      <td>94.400002</td>\n",
              "    </tr>\n",
              "  </tbody>\n",
              "</table>\n",
              "</div>"
            ],
            "text/plain": [
              "Symbols           AAPL        META          C        DIS\n",
              "Date                                                    \n",
              "2022-06-24  141.660004  170.160004  47.860001  97.779999\n",
              "2022-06-27  141.660004  169.490005  47.830002  96.610001\n",
              "2022-06-28  137.440002  160.679993  47.209999  95.919998\n",
              "2022-06-29  139.229996  163.940002  47.099998  95.650002\n",
              "2022-06-30  136.720001  161.250000  45.990002  94.400002"
            ]
          },
          "execution_count": 35,
          "metadata": {},
          "output_type": "execute_result"
        }
      ],
      "source": [
        "# Download closing prices\n",
        "\n",
        "data = pdr.get_data_yahoo(tickers, start=\"2018-01-01\", end=dt.date.today())[\"Close\"]\n",
        "\n",
        "data.tail()\n"
      ]
    },
    {
      "cell_type": "code",
      "execution_count": 36,
      "metadata": {
        "id": "Ewn38t3NN4OY"
      },
      "outputs": [
        {
          "data": {
            "text/html": [
              "<div>\n",
              "<style scoped>\n",
              "    .dataframe tbody tr th:only-of-type {\n",
              "        vertical-align: middle;\n",
              "    }\n",
              "\n",
              "    .dataframe tbody tr th {\n",
              "        vertical-align: top;\n",
              "    }\n",
              "\n",
              "    .dataframe thead th {\n",
              "        text-align: right;\n",
              "    }\n",
              "</style>\n",
              "<table border=\"1\" class=\"dataframe\">\n",
              "  <thead>\n",
              "    <tr style=\"text-align: right;\">\n",
              "      <th>Symbols</th>\n",
              "      <th>AAPL</th>\n",
              "      <th>META</th>\n",
              "      <th>C</th>\n",
              "      <th>DIS</th>\n",
              "    </tr>\n",
              "    <tr>\n",
              "      <th>Date</th>\n",
              "      <th></th>\n",
              "      <th></th>\n",
              "      <th></th>\n",
              "      <th></th>\n",
              "    </tr>\n",
              "  </thead>\n",
              "  <tbody>\n",
              "    <tr>\n",
              "      <th>2022-06-24</th>\n",
              "      <td>0.024517</td>\n",
              "      <td>0.071874</td>\n",
              "      <td>0.032578</td>\n",
              "      <td>0.036903</td>\n",
              "    </tr>\n",
              "    <tr>\n",
              "      <th>2022-06-27</th>\n",
              "      <td>0.000000</td>\n",
              "      <td>-0.003937</td>\n",
              "      <td>-0.000627</td>\n",
              "      <td>-0.011966</td>\n",
              "    </tr>\n",
              "    <tr>\n",
              "      <th>2022-06-28</th>\n",
              "      <td>-0.029790</td>\n",
              "      <td>-0.051980</td>\n",
              "      <td>-0.012963</td>\n",
              "      <td>-0.007142</td>\n",
              "    </tr>\n",
              "    <tr>\n",
              "      <th>2022-06-29</th>\n",
              "      <td>0.013024</td>\n",
              "      <td>0.020289</td>\n",
              "      <td>-0.002330</td>\n",
              "      <td>-0.002815</td>\n",
              "    </tr>\n",
              "    <tr>\n",
              "      <th>2022-06-30</th>\n",
              "      <td>-0.018028</td>\n",
              "      <td>-0.016408</td>\n",
              "      <td>-0.023567</td>\n",
              "      <td>-0.013068</td>\n",
              "    </tr>\n",
              "  </tbody>\n",
              "</table>\n",
              "</div>"
            ],
            "text/plain": [
              "Symbols         AAPL      META         C       DIS\n",
              "Date                                              \n",
              "2022-06-24  0.024517  0.071874  0.032578  0.036903\n",
              "2022-06-27  0.000000 -0.003937 -0.000627 -0.011966\n",
              "2022-06-28 -0.029790 -0.051980 -0.012963 -0.007142\n",
              "2022-06-29  0.013024  0.020289 -0.002330 -0.002815\n",
              "2022-06-30 -0.018028 -0.016408 -0.023567 -0.013068"
            ]
          },
          "execution_count": 36,
          "metadata": {},
          "output_type": "execute_result"
        }
      ],
      "source": [
        "# From the closing prices, calculate periodic returns\n",
        "returns = data.pct_change()\n",
        "\n",
        "returns.tail()\n"
      ]
    },
    {
      "cell_type": "markdown",
      "metadata": {
        "id": "Jowv-MG3P9ub"
      },
      "source": [
        "### 2) Create a covariance matrix based on the returns\n",
        "\n",
        "This will allow us to calculate the standard deviation and mean of returns across the entire portfolio."
      ]
    },
    {
      "cell_type": "code",
      "execution_count": 37,
      "metadata": {
        "id": "1ta3mUFDPWB0"
      },
      "outputs": [
        {
          "data": {
            "text/html": [
              "<div>\n",
              "<style scoped>\n",
              "    .dataframe tbody tr th:only-of-type {\n",
              "        vertical-align: middle;\n",
              "    }\n",
              "\n",
              "    .dataframe tbody tr th {\n",
              "        vertical-align: top;\n",
              "    }\n",
              "\n",
              "    .dataframe thead th {\n",
              "        text-align: right;\n",
              "    }\n",
              "</style>\n",
              "<table border=\"1\" class=\"dataframe\">\n",
              "  <thead>\n",
              "    <tr style=\"text-align: right;\">\n",
              "      <th>Symbols</th>\n",
              "      <th>AAPL</th>\n",
              "      <th>META</th>\n",
              "      <th>C</th>\n",
              "      <th>DIS</th>\n",
              "    </tr>\n",
              "    <tr>\n",
              "      <th>Symbols</th>\n",
              "      <th></th>\n",
              "      <th></th>\n",
              "      <th></th>\n",
              "      <th></th>\n",
              "    </tr>\n",
              "  </thead>\n",
              "  <tbody>\n",
              "    <tr>\n",
              "      <th>AAPL</th>\n",
              "      <td>0.000439</td>\n",
              "      <td>0.000318</td>\n",
              "      <td>0.000246</td>\n",
              "      <td>0.000194</td>\n",
              "    </tr>\n",
              "    <tr>\n",
              "      <th>META</th>\n",
              "      <td>0.000318</td>\n",
              "      <td>0.000657</td>\n",
              "      <td>0.000232</td>\n",
              "      <td>0.000211</td>\n",
              "    </tr>\n",
              "    <tr>\n",
              "      <th>C</th>\n",
              "      <td>0.000246</td>\n",
              "      <td>0.000232</td>\n",
              "      <td>0.000614</td>\n",
              "      <td>0.000304</td>\n",
              "    </tr>\n",
              "    <tr>\n",
              "      <th>DIS</th>\n",
              "      <td>0.000194</td>\n",
              "      <td>0.000211</td>\n",
              "      <td>0.000304</td>\n",
              "      <td>0.000399</td>\n",
              "    </tr>\n",
              "  </tbody>\n",
              "</table>\n",
              "</div>"
            ],
            "text/plain": [
              "Symbols      AAPL      META         C       DIS\n",
              "Symbols                                        \n",
              "AAPL     0.000439  0.000318  0.000246  0.000194\n",
              "META     0.000318  0.000657  0.000232  0.000211\n",
              "C        0.000246  0.000232  0.000614  0.000304\n",
              "DIS      0.000194  0.000211  0.000304  0.000399"
            ]
          },
          "execution_count": 37,
          "metadata": {},
          "output_type": "execute_result"
        }
      ],
      "source": [
        "# Generate Var-Cov matrix\n",
        "cov_matrix = returns.cov()\n",
        "\n",
        "cov_matrix\n"
      ]
    },
    {
      "cell_type": "markdown",
      "metadata": {
        "id": "DXqjmYZ7QR21"
      },
      "source": [
        "### 3) Calculate the portfolio mean and standard deviation"
      ]
    },
    {
      "cell_type": "code",
      "execution_count": 38,
      "metadata": {
        "id": "CrygMjaWQE70"
      },
      "outputs": [],
      "source": [
        "# Calculate mean returns for each stock\n",
        "avg_rets = returns.mean()\n",
        "\n",
        "# Calculate mean returns for portfolio overall, using dot product to\n",
        "# normalize individual means against investment weights\n",
        "\n",
        "# https://en.wikipedia.org/wiki/Dot_product#:~:targetText=In%20mathematics%2C%20the%20dot%20product,and%20returns%20a%20single%20number.\n",
        "\n",
        "port_mean = avg_rets.dot(weights)\n",
        "\n",
        "# Calculate portfolio standard deviation\n",
        "\n",
        "port_stdev = np.sqrt(weights.T.dot(cov_matrix).dot(weights))\n",
        "\n",
        "# Calculate mean of investment\n",
        "\n",
        "mean_investment = (1 + port_mean) * initial_investment\n",
        "\n",
        "# Calculate standard deviation of investment\n",
        "\n",
        "stdev_investment = initial_investment * port_stdev\n"
      ]
    },
    {
      "cell_type": "code",
      "execution_count": 39,
      "metadata": {
        "id": "qTdz_G_JQfSn"
      },
      "outputs": [
        {
          "data": {
            "text/plain": [
              "Symbols\n",
              "AAPL    0.001242\n",
              "META    0.000232\n",
              "C      -0.000116\n",
              "DIS     0.000049\n",
              "dtype: float64"
            ]
          },
          "execution_count": 39,
          "metadata": {},
          "output_type": "execute_result"
        }
      ],
      "source": [
        "avg_rets\n"
      ]
    },
    {
      "cell_type": "code",
      "execution_count": 40,
      "metadata": {
        "id": "RXpS3jgXQ4zQ"
      },
      "outputs": [
        {
          "data": {
            "text/plain": [
              "0.0003771790522696406"
            ]
          },
          "execution_count": 40,
          "metadata": {},
          "output_type": "execute_result"
        }
      ],
      "source": [
        "port_mean\n"
      ]
    },
    {
      "cell_type": "code",
      "execution_count": 41,
      "metadata": {
        "id": "gpjmZVdWRAoN"
      },
      "outputs": [
        {
          "data": {
            "text/plain": [
              "0.017826366891472527"
            ]
          },
          "execution_count": 41,
          "metadata": {},
          "output_type": "execute_result"
        }
      ],
      "source": [
        "port_stdev\n"
      ]
    },
    {
      "cell_type": "code",
      "execution_count": 42,
      "metadata": {
        "id": "w8VEhz0hREHb"
      },
      "outputs": [
        {
          "data": {
            "text/plain": [
              "1000377.1790522698"
            ]
          },
          "execution_count": 42,
          "metadata": {},
          "output_type": "execute_result"
        }
      ],
      "source": [
        "mean_investment\n"
      ]
    },
    {
      "cell_type": "code",
      "execution_count": 43,
      "metadata": {
        "id": "W_6bsQ87RGjL"
      },
      "outputs": [
        {
          "data": {
            "text/plain": [
              "17826.366891472528"
            ]
          },
          "execution_count": 43,
          "metadata": {},
          "output_type": "execute_result"
        }
      ],
      "source": [
        "stdev_investment\n"
      ]
    },
    {
      "cell_type": "markdown",
      "metadata": {
        "id": "OyRDnDqHRQnu"
      },
      "source": [
        "Next, we can plug these variables into our percentage point function (PPF) below.\n",
        "\n",
        "### 4) Calculate the inverse of the normal cumulative distribution (PPF) with a specified confidence interval, standard deviation, and mean"
      ]
    },
    {
      "cell_type": "code",
      "execution_count": 44,
      "metadata": {
        "id": "YzX0c7f8RJsm"
      },
      "outputs": [],
      "source": [
        "# Select our confidence interval (I'll choose 95% here)\n",
        "conf_level1 = 0.05\n",
        "\n",
        "# Using SciPy ppf method to generate values for the\n",
        "# inverse cumulative distribution function to a normal distribution\n",
        "\n",
        "# Plugging in the mean, standard deviation of our portfolio\n",
        "# as calculated above\n",
        "\n",
        "# https://docs.scipy.org/doc/scipy/reference/generated/scipy.stats.norm.html\n",
        "\n",
        "cutoff1 = norm.ppf(conf_level1, mean_investment, stdev_investment)\n"
      ]
    },
    {
      "cell_type": "code",
      "execution_count": 45,
      "metadata": {
        "id": "UHpXhkmDRgfo"
      },
      "outputs": [
        {
          "data": {
            "text/plain": [
              "971055.4148154636"
            ]
          },
          "execution_count": 45,
          "metadata": {},
          "output_type": "execute_result"
        }
      ],
      "source": [
        "cutoff1\n"
      ]
    },
    {
      "cell_type": "markdown",
      "metadata": {
        "id": "_6-JcC6ZRnt3"
      },
      "source": [
        "### 5) Estimate the value at risk (VaR) for the portfolio by subtracting the initial investment from the calculation in step 4"
      ]
    },
    {
      "cell_type": "code",
      "execution_count": 46,
      "metadata": {
        "id": "y5qVYzvYRjCD"
      },
      "outputs": [
        {
          "data": {
            "text/plain": [
              "28944.58518453641"
            ]
          },
          "execution_count": 46,
          "metadata": {},
          "output_type": "execute_result"
        }
      ],
      "source": [
        "# Finally, we can calculate the VaR at our confidence interval\n",
        "\n",
        "var_1d1 = initial_investment - cutoff1\n",
        "\n",
        "var_1d1\n"
      ]
    },
    {
      "cell_type": "markdown",
      "metadata": {
        "id": "iqnIcFlKYtgb"
      },
      "source": [
        "Here we are saying with 95% confidence that our portfolio of 1M USD will not exceed losses greater than 28.9k USD over a one day period.\n",
        "\n",
        "### Value at risk over $n$-day time period\n",
        "\n",
        "What if we wanted to calculate this over a larger window of time? Below we can easily do that by just taking our 1 day VaR and multiplying it by the square root of the time period (this is due to the fact that the standard deviation of stock returns tends to increase with the square root of time)."
      ]
    },
    {
      "cell_type": "code",
      "execution_count": 47,
      "metadata": {
        "id": "2KUFfcqQRsui"
      },
      "outputs": [
        {
          "name": "stdout",
          "output_type": "stream",
          "text": [
            "1 day VaR @ 95% confidence: 28944.59\n",
            "2 day VaR @ 95% confidence: 40933.82\n",
            "3 day VaR @ 95% confidence: 50133.49\n",
            "4 day VaR @ 95% confidence: 57889.17\n",
            "5 day VaR @ 95% confidence: 64722.06\n",
            "6 day VaR @ 95% confidence: 70899.46\n",
            "7 day VaR @ 95% confidence: 76580.17\n",
            "8 day VaR @ 95% confidence: 81867.65\n",
            "9 day VaR @ 95% confidence: 86833.76\n",
            "10 day VaR @ 95% confidence: 91530.82\n",
            "11 day VaR @ 95% confidence: 95998.33\n",
            "12 day VaR @ 95% confidence: 100266.98\n",
            "13 day VaR @ 95% confidence: 104361.19\n",
            "14 day VaR @ 95% confidence: 108300.72\n",
            "15 day VaR @ 95% confidence: 112101.9\n"
          ]
        }
      ],
      "source": [
        "# Calculate n Day VaR\n",
        "\n",
        "var_array = []\n",
        "\n",
        "num_days = 15\n",
        "\n",
        "for x in range(1, num_days + 1):\n",
        "    var_array.append(np.round(var_1d1 * np.sqrt(x), 2))\n",
        "    print(\n",
        "        f\"{str(x)} day VaR @ 95% confidence: {str(np.round(var_1d1 * np.sqrt(x), 2))}\"\n",
        "    )\n"
      ]
    },
    {
      "cell_type": "code",
      "execution_count": 48,
      "metadata": {
        "id": "MpVqlDBiZfpr"
      },
      "outputs": [
        {
          "data": {
            "text/plain": [
              "[<matplotlib.lines.Line2D at 0x1480acbb0>]"
            ]
          },
          "execution_count": 48,
          "metadata": {},
          "output_type": "execute_result"
        },
        {
          "data": {
            "image/png": "[encoded data removed]",
            "text/plain": [
              "<Figure size 432x288 with 1 Axes>"
            ]
          },
          "metadata": {
            "needs_background": "light"
          },
          "output_type": "display_data"
        }
      ],
      "source": [
        "# Build plot\n",
        "\n",
        "plt.xlabel(\"Day #\")\n",
        "plt.ylabel(\"Max portfolio loss (USD)\")\n",
        "plt.title(\"Max portfolio loss (VaR) over 15-day period\")\n",
        "plt.plot(range(1, num_days + 1), var_array, \"r\")\n"
      ]
    },
    {
      "cell_type": "markdown",
      "metadata": {
        "id": "WMaBHcL_aUE0"
      },
      "source": [
        "### (Extra) Checking distributions of our equities against normal distribution\n",
        "\n",
        "As mentioned in the calculation section, we are assuming that the returns of the equities in our portfolio are normally distributed when calculating VaR. Of course, we can't predict that moving forward, but we can at least check how the historical returns have been distributed to help us assess whether VaR is suitable to use for our portfolio."
      ]
    },
    {
      "cell_type": "code",
      "execution_count": 49,
      "metadata": {
        "id": "UR5SCEArZj0h"
      },
      "outputs": [],
      "source": [
        "def plot_return_dist(ticker):\n",
        "    returns[ticker].hist(bins=40, density=True, histtype=\"stepfilled\", alpha=0.5)\n",
        "    x = np.linspace(port_mean - 3 * port_stdev, port_mean + 3 * port_stdev, 100)\n",
        "    plt.plot(x, norm.pdf(x, port_mean, port_stdev), \"r\")\n",
        "    plt.title(f\"{ticker} returns (binned) vs. normal distribution\")\n",
        "    plt.show()\n"
      ]
    },
    {
      "cell_type": "code",
      "execution_count": 50,
      "metadata": {
        "id": "lIjBQUDZbAcj"
      },
      "outputs": [
        {
          "data": {
            "image/png": "[encoded data removed]",
            "text/plain": [
              "<Figure size 432x288 with 1 Axes>"
            ]
          },
          "metadata": {
            "needs_background": "light"
          },
          "output_type": "display_data"
        },
        {
          "data": {
            "image/png": "[encoded data removed]",
            "text/plain": [
              "<Figure size 432x288 with 1 Axes>"
            ]
          },
          "metadata": {
            "needs_background": "light"
          },
          "output_type": "display_data"
        },
        {
          "data": {
            "image/png": "[encoded data removed]",
            "text/plain": [
              "<Figure size 432x288 with 1 Axes>"
            ]
          },
          "metadata": {
            "needs_background": "light"
          },
          "output_type": "display_data"
        },
        {
          "data": {
            "image/png": "[encoded data removed]",
            "text/plain": [
              "<Figure size 432x288 with 1 Axes>"
            ]
          },
          "metadata": {
            "needs_background": "light"
          },
          "output_type": "display_data"
        }
      ],
      "source": [
        "for ticker in tickers:\n",
        "    plot_return_dist(ticker)\n"
      ]
    },
    {
      "cell_type": "markdown",
      "metadata": {
        "id": "dy-6UFG0d69s"
      },
      "source": [
        "From the above we can see the returns are rarely normally distributed for our chosen stocks since 2018."
      ]
    },
    {
      "cell_type": "code",
      "execution_count": null,
      "metadata": {
        "id": "t8qpvJuVd_ai"
      },
      "outputs": [],
      "source": []
    }
  ],
  "metadata": {
    "colab": {
      "authorship_tag": "ABX9TyOJSZkYroQ0Lx9SDmKv7wQG",
      "collapsed_sections": [],
      "include_colab_link": true,
      "name": "PortfolioVaR.ipynb",
      "private_outputs": true,
      "provenance": []
    },
    "kernelspec": {
      "display_name": "Python 3.9.12 ('.venv': venv)",
      "language": "python",
      "name": "python3"
    },
    "language_info": {
      "codemirror_mode": {
        "name": "ipython",
        "version": 3
      },
      "file_extension": ".py",
      "mimetype": "text/x-python",
      "name": "python",
      "nbconvert_exporter": "python",
      "pygments_lexer": "ipython3",
      "version": "3.9.12"
    },
    "vscode": {
      "interpreter": {
        "hash": "1918512b074ea91ca9486d1fdb26f672ed6983871361a542e588744c2ecad22d"
      }
    }
  },
  "nbformat": 4,
  "nbformat_minor": 0
}
